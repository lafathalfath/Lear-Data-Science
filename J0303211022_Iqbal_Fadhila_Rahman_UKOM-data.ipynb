{
  "cells": [
    {
      "cell_type": "markdown",
      "id": "da6edd53",
      "metadata": {
        "id": "da6edd53"
      },
      "source": [
        "# UJIAN KOMPETENSI DATA ANALIS SEMESTER GENAP TAHUN AKADEMIK 2023/2024\n",
        "# SEKOLAH VOKASI IPB\n",
        "---\n",
        "\n",
        "# ANALISIS DAN VISUALISASI DATA\n",
        "\n",
        "## Petunjuk:\n",
        "1. Pada ujian ini Anda diminta untuk menganalisis data **Most Subscribed 1000 Youtube Channels**.\n",
        "2. Gunakan notebook ini untuk menuliskan jawaban. **save as dengan nama file: NIM_NamaLengkap_UKOM-data.ipynb**\n",
        "3. Gunakan dataset **topSubscribed.csv**.\n",
        "4. Kumpulkan jawaban pada link yang tertera pada class.\n",
        "5. Bacalah doa sebelum dan sesudah mengerjakan.\n",
        "6. Semoga sukses."
      ]
    },
    {
      "cell_type": "markdown",
      "id": "11fa3321",
      "metadata": {
        "id": "11fa3321"
      },
      "source": [
        "## Persiapan Data\n",
        "\n",
        "Pada ujian ini, kita akan gunakan data **Most Subscribed 1000 Youtube Channels**. Data tersebut terdapat pada file `topSubscribed.csv` yg berada pada folder yang sama dengan file ini.\n",
        "\n",
        "File berisi data 1000 channel youtube yang memiliki subscriber terbanyak. Data terdiri atas enam series sebagai berikut:\n",
        "\n",
        "- `Youtube Channel` : Nama channel youtube\n",
        "- `Subscriber` : Jumlah subscriber\n",
        "- `Video Views` : banyaknya video dilihat\n",
        "- `Video Count` : jumlah video pada channel tersebut\n",
        "- `Category` : kategori channel youtube\n",
        "- `Started` : tahun dimulainya channel youtube"
      ]
    },
    {
      "cell_type": "markdown",
      "id": "15d374a0",
      "metadata": {
        "id": "15d374a0"
      },
      "source": [
        "Silakan import data `topSubscribed.csv` dan simpan ke dalam variabel **top**. Import library pandas dan matplotlib. Tampilkan 5 data teratas dari `top`."
      ]
    },
    {
      "cell_type": "code",
      "execution_count": 80,
      "id": "dd027fc5",
      "metadata": {
        "colab": {
          "base_uri": "https://localhost:8080/"
        },
        "id": "dd027fc5",
        "outputId": "dcd304c5-8c25-4929-840b-25d672645ae9"
      },
      "outputs": [
        {
          "output_type": "stream",
          "name": "stdout",
          "text": [
            "5 Baris Pertama dari Dataset:\n",
            "              Youtube Channel  Subscribers      Video Views Video Count  \\\n",
            "0                    T-Series  234,000,000  212,900,271,553      18,515   \n",
            "1              YouTube Movies  161,000,000                0           0   \n",
            "2  Cocomelon - Nursery Rhymes  152,000,000  149,084,178,448         846   \n",
            "3                   SET India  150,000,000  137,828,094,104     103,200   \n",
            "4                     MrBeast  128,000,000   21,549,128,785         733   \n",
            "\n",
            "           Category  Started  \n",
            "0             Music     2006  \n",
            "1  Film & Animation     2015  \n",
            "2         Education     2006  \n",
            "3             Shows     2006  \n",
            "4     Entertainment     2012  \n"
          ]
        }
      ],
      "source": [
        "## Import library pandas dan matplotlib serta read data top\n",
        "## your code\n",
        "import pandas as pd\n",
        "import matplotlib.pyplot as plt\n",
        "\n",
        "top = pd.read_csv('topSubscribed.csv')\n",
        "\n",
        "print(\"5 Baris Pertama dari Dataset:\")\n",
        "print(top.head())"
      ]
    },
    {
      "cell_type": "markdown",
      "id": "297ad7f4",
      "metadata": {
        "id": "297ad7f4"
      },
      "source": [
        "Anda dapat melihat jumlah baris pada variabel `top` dengan menggunakan `shape`"
      ]
    },
    {
      "cell_type": "code",
      "execution_count": 65,
      "id": "7d270059",
      "metadata": {
        "colab": {
          "base_uri": "https://localhost:8080/"
        },
        "id": "7d270059",
        "outputId": "ac26fdb3-5b9e-469c-a95b-3a612e63bf04"
      },
      "outputs": [
        {
          "output_type": "stream",
          "name": "stdout",
          "text": [
            "1000\n"
          ]
        }
      ],
      "source": [
        "##your code:\n",
        "print(top.shape[0])\n"
      ]
    },
    {
      "cell_type": "markdown",
      "id": "5cfde803",
      "metadata": {
        "id": "5cfde803"
      },
      "source": [
        "Mari kita tinjau lebih jauh tipe data pada variabel `top`."
      ]
    },
    {
      "cell_type": "code",
      "execution_count": 67,
      "id": "ee9dcc08",
      "metadata": {
        "colab": {
          "base_uri": "https://localhost:8080/"
        },
        "id": "ee9dcc08",
        "outputId": "a268de41-a836-4fc5-f06c-13488ff73a66"
      },
      "outputs": [
        {
          "output_type": "stream",
          "name": "stdout",
          "text": [
            "Youtube Channel    object\n",
            "Subscribers        object\n",
            "Video Views        object\n",
            "Video Count        object\n",
            "Category           object\n",
            "Started             int64\n",
            "dtype: object\n"
          ]
        }
      ],
      "source": [
        "##your code:\n",
        "print(top.dtypes)"
      ]
    },
    {
      "cell_type": "markdown",
      "id": "65df34f5",
      "metadata": {
        "id": "65df34f5"
      },
      "source": [
        "Dari hasil di atas, jika ada kolom yang tidak sesuai tipe datanya, maka Anda harus sesuaikan (ada 3 kolom numerik dan 1 kolom kategori). Apakah terjadi error? jika ya, tuliskan alasannya menurut Anda. Lalu tuliskan kode yang benar."
      ]
    },
    {
      "cell_type": "markdown",
      "id": "9a57b5ef",
      "metadata": {
        "id": "9a57b5ef"
      },
      "source": [
        "> **Alasannya:**\n",
        "Berdasarkan hasil .dtypes, terlihat bahwa kolom-kolom seperti Subscribers, Video Views, dan Video Count seharusnya memiliki tipe data numerik karena mereka mengandung informasi numerik seperti jumlah pelanggan, jumlah tayangan video, dan jumlah video.\n",
        "\n"
      ]
    },
    {
      "cell_type": "code",
      "execution_count": 81,
      "id": "7aa3168f",
      "metadata": {
        "colab": {
          "base_uri": "https://localhost:8080/"
        },
        "id": "7aa3168f",
        "outputId": "30260ad8-a9e5-46f1-ee00-f712e65b0b24"
      },
      "outputs": [
        {
          "output_type": "stream",
          "name": "stdout",
          "text": [
            "Youtube Channel    object\n",
            "Subscribers         int64\n",
            "Video Views         int64\n",
            "Video Count         int64\n",
            "Category           object\n",
            "Started             int64\n",
            "dtype: object\n"
          ]
        }
      ],
      "source": [
        "##your code:\n",
        "# Contoh: Mengubah kolom 'Subscribers' menjadi tipe data numerik\n",
        "# Menghapus tanda koma dari kolom yang ingin diubah menjadi numerik\n",
        "top['Subscribers'] = top['Subscribers'].str.replace(',', '')\n",
        "top['Video Views'] = top['Video Views'].str.replace(',', '')\n",
        "top['Video Count'] = top['Video Count'].str.replace(',', '')\n",
        "\n",
        "# Mengubah kolom-kolom menjadi tipe data numerik\n",
        "top['Subscribers'] = pd.to_numeric(top['Subscribers'])\n",
        "top['Video Views'] = pd.to_numeric(top['Video Views'])\n",
        "top['Video Count'] = pd.to_numeric(top['Video Count'])\n",
        "\n",
        "# Menampilkan tipe data setelah perubahan\n",
        "print(top.dtypes)\n",
        "top['Category'] = top['Category'].astype('category')\n",
        "\n"
      ]
    },
    {
      "cell_type": "code",
      "execution_count": 82,
      "id": "621f1758",
      "metadata": {
        "colab": {
          "base_uri": "https://localhost:8080/"
        },
        "id": "621f1758",
        "outputId": "7b4e0b81-fb8b-4c3f-a34c-7e19f071fd71"
      },
      "outputs": [
        {
          "output_type": "stream",
          "name": "stdout",
          "text": [
            "                Youtube Channel  Subscribers   Video Views  Video Count  \\\n",
            "0                      T-Series    234000000  212900271553        18515   \n",
            "1                YouTube Movies    161000000             0            0   \n",
            "2    Cocomelon - Nursery Rhymes    152000000  149084178448          846   \n",
            "3                     SET India    150000000  137828094104       103200   \n",
            "4                       MrBeast    128000000   21549128785          733   \n",
            "..                          ...          ...           ...          ...   \n",
            "995                     XO TEAM     11500000   11471384709         2679   \n",
            "996         Nirahua Music World     11500000    5997717755          788   \n",
            "997                     YtCrash     11400000       3825084            1   \n",
            "998                   Painzeiro     11400000    2143444281          946   \n",
            "999                   Oum Walid     11400000    2480064722         1598   \n",
            "\n",
            "             Category  Started  \n",
            "0               Music     2006  \n",
            "1    Film & Animation     2015  \n",
            "2           Education     2006  \n",
            "3               Shows     2006  \n",
            "4       Entertainment     2012  \n",
            "..                ...      ...  \n",
            "995    People & Blogs     2021  \n",
            "996             Music     2014  \n",
            "997         Education     2015  \n",
            "998    People & Blogs     2015  \n",
            "999    People & Blogs     2015  \n",
            "\n",
            "[1000 rows x 6 columns]\n"
          ]
        }
      ],
      "source": [
        "## tampilkan kembali tipe data top.\n",
        "## your code:\n",
        "\n",
        "print(top)"
      ]
    },
    {
      "cell_type": "markdown",
      "id": "99df41ce",
      "metadata": {
        "id": "99df41ce"
      },
      "source": [
        "## Pertanyaan\n",
        "\n",
        "Jawablah pertanyaan-pertanyaan berikut. Tuliskan kode program untuk membuktikan jawaban Anda."
      ]
    },
    {
      "cell_type": "markdown",
      "id": "0ba9700b",
      "metadata": {
        "id": "0ba9700b"
      },
      "source": [
        "1. Youtube channel manakah yang memiliki subscriber terbanyak?\n",
        "   - [✅] T-Series\n",
        "   - [ ] YouTube Movies\n",
        "   - [ ] SET India\n",
        "   - [ ] MrBeast"
      ]
    },
    {
      "cell_type": "code",
      "execution_count": 19,
      "id": "1ad2cb8d",
      "metadata": {
        "colab": {
          "base_uri": "https://localhost:8080/"
        },
        "id": "1ad2cb8d",
        "outputId": "26c226ce-575d-414c-c6e0-42e9e3ff1e40"
      },
      "outputs": [
        {
          "output_type": "stream",
          "name": "stdout",
          "text": [
            "Channel dengan subscriber terbanyak adalah: T-Series\n"
          ]
        }
      ],
      "source": [
        "##Your code:\n",
        "# Mengubah kolom 'Subscribers' menjadi tipe data numerik jika belum dilakukan\n",
        "top['Subscribers'] = pd.to_numeric(top['Subscribers'], errors='coerce')\n",
        "\n",
        "# Mencari indeks dengan nilai maksimum di kolom 'Subscribers'\n",
        "max_subscribers_index = top['Subscribers'].idxmax()\n",
        "\n",
        "# Mengambil nilai 'Youtube Channel' berdasarkan indeks dengan nilai maksimum\n",
        "channel_with_most_subscribers = top.loc[max_subscribers_index, 'Youtube Channel']\n",
        "\n",
        "print(\"Channel dengan subscriber terbanyak adalah:\", channel_with_most_subscribers)"
      ]
    },
    {
      "cell_type": "markdown",
      "id": "d5f1d360",
      "metadata": {
        "id": "d5f1d360"
      },
      "source": [
        "2. Berapa jumlah Youtube channel yang baru mulai di tahun 2021?\n",
        "   - [ ] 30\n",
        "   - [ ] 15\n",
        "   - [✅] 11\n",
        "   - [ ] 8"
      ]
    },
    {
      "cell_type": "code",
      "execution_count": 20,
      "id": "d3545ea1",
      "metadata": {
        "colab": {
          "base_uri": "https://localhost:8080/"
        },
        "id": "d3545ea1",
        "outputId": "5213caea-5a92-4d00-9b4a-41d9554330aa"
      },
      "outputs": [
        {
          "output_type": "stream",
          "name": "stdout",
          "text": [
            "Jumlah YouTube channel yang baru mulai di tahun 2021: 11\n"
          ]
        }
      ],
      "source": [
        "##Your code:\n",
        "# Filter dan hitung jumlah channel yang dimulai di tahun 2021\n",
        "channels_started_2021 = top[top['Started'] == 2021]\n",
        "jumlah_channels_started_2021 = len(channels_started_2021)\n",
        "\n",
        "print(\"Jumlah YouTube channel yang baru mulai di tahun 2021:\", jumlah_channels_started_2021)\n"
      ]
    },
    {
      "cell_type": "markdown",
      "id": "6269fc99",
      "metadata": {
        "id": "6269fc99"
      },
      "source": [
        "3. Jumlah youtube channel terbanyak tumbuh terjadi pada tahun **2014** yaitu sebanyak **120** channel."
      ]
    },
    {
      "cell_type": "code",
      "execution_count": 21,
      "id": "c8fff37e",
      "metadata": {
        "colab": {
          "base_uri": "https://localhost:8080/"
        },
        "id": "c8fff37e",
        "outputId": "e5c4cec9-1d90-4d7d-b377-97d43f0e2417"
      },
      "outputs": [
        {
          "output_type": "stream",
          "name": "stdout",
          "text": [
            "Jumlah YouTube channel terbanyak tumbuh pada tahun 2014: 120\n"
          ]
        }
      ],
      "source": [
        "##your code:\n",
        "# Filter dan hitung jumlah channel yang dimulai di tahun 2014\n",
        "channels_started_2014 = top[top['Started'] == 2014]\n",
        "jumlah_channels_started_2014 = len(channels_started_2014)\n",
        "\n",
        "print(\"Jumlah YouTube channel terbanyak tumbuh pada tahun 2014:\", jumlah_channels_started_2014)\n"
      ]
    },
    {
      "cell_type": "markdown",
      "id": "73183151",
      "metadata": {
        "id": "73183151"
      },
      "source": [
        "4. Di `Category` `Gaming`, channel manakah yang memiliki subscriber terbanyak?\n",
        "   - [✅] PewDiePie\n",
        "   - [ ] JuegaGerman\n",
        "   - [ ] Fernanfloo\n",
        "   - [ ] elrubiusOMG"
      ]
    },
    {
      "cell_type": "code",
      "execution_count": 22,
      "id": "31a38adf",
      "metadata": {
        "colab": {
          "base_uri": "https://localhost:8080/"
        },
        "id": "31a38adf",
        "outputId": "cb5f408a-b337-4e2f-8060-6a8564595788"
      },
      "outputs": [
        {
          "output_type": "stream",
          "name": "stdout",
          "text": [
            "Channel dengan subscriber terbanyak di kategori Gaming: PewDiePie\n"
          ]
        }
      ],
      "source": [
        "##your code:\n",
        "# Filter hanya untuk kategori Gaming\n",
        "gaming_channels = top[top['Category'] == 'Gaming']\n",
        "\n",
        "# Mencari indeks dari channel dengan subscriber terbanyak di kategori Gaming\n",
        "max_subscribers_index = gaming_channels['Subscribers'].idxmax()\n",
        "\n",
        "# Mengambil nama channel dengan subscriber terbanyak di kategori Gaming\n",
        "channel_with_most_subscribers_gaming = gaming_channels.loc[max_subscribers_index, 'Youtube Channel']\n",
        "\n",
        "print(\"Channel dengan subscriber terbanyak di kategori Gaming:\", channel_with_most_subscribers_gaming)\n"
      ]
    },
    {
      "cell_type": "markdown",
      "id": "7ba8bbd1",
      "metadata": {
        "id": "7ba8bbd1"
      },
      "source": [
        "5. Nilai pusat data `Video Views` adalah...\n",
        "   - [✅] 9.994912e+09\n",
        "   - [ ] 1.300546e+10\n",
        "   - [✅] 6.723360e+09\n",
        "   - [ ] 2.129003e+11"
      ]
    },
    {
      "cell_type": "code",
      "execution_count": 83,
      "id": "a6b38410",
      "metadata": {
        "colab": {
          "base_uri": "https://localhost:8080/"
        },
        "id": "a6b38410",
        "outputId": "6095d2aa-b1e7-43e8-96e2-7e2e0dbf33c3"
      },
      "outputs": [
        {
          "output_type": "stream",
          "name": "stdout",
          "text": [
            "Median dari Video Views: 6723360159.0\n",
            "Rata-rata dari Video Views: 9994912409.734\n"
          ]
        }
      ],
      "source": [
        "##your code:\n",
        "# top.dtypes\n",
        "median_views = top['Video Views'].median()\n",
        "print(\"Median dari Video Views:\", median_views)\n",
        "mean_views = top['Video Views'].mean()\n",
        "print(\"Rata-rata dari Video Views:\", mean_views)\n"
      ]
    },
    {
      "cell_type": "markdown",
      "id": "46d2c297",
      "metadata": {
        "id": "46d2c297"
      },
      "source": [
        "6. Kategori (Category) manakah yang sering dilihat (view) penonton? Gunakan `mean` untuk menghitung kisaran view dari tiap kategori.\n",
        "   - [✅] Shows\n",
        "   - [ ] Trailers\n",
        "   - [ ] Education\n",
        "   - [ ] Sports"
      ]
    },
    {
      "cell_type": "code",
      "execution_count": 84,
      "id": "152ad159",
      "metadata": {
        "colab": {
          "base_uri": "https://localhost:8080/"
        },
        "id": "152ad159",
        "outputId": "7b1c1085-621d-4979-9325-d3ce06071ed1"
      },
      "outputs": [
        {
          "output_type": "stream",
          "name": "stdout",
          "text": [
            "Rata-rata Video Views berdasarkan Kategori:\n",
            "Category\n",
            "Shows                                                                           2.999205e+10\n",
            "Trailers                                                                        1.613509e+10\n",
            "Education                                                                       1.418033e+10\n",
            "Music                                                                           1.409645e+10\n",
            "Sports                                                                          1.283169e+10\n",
            "Film & Animation                                                                1.036087e+10\n",
            "News & Politics                                                                 9.359919e+09\n",
            "Entertainment                                                                   9.323448e+09\n",
            "People & Blogs                                                                  8.394943e+09\n",
            "Pets & Animals                                                                  7.991630e+09\n",
            "Autos & Vehicles                                                                7.666148e+09\n",
            "Gaming                                                                          7.142277e+09\n",
            "Movies                                                                          7.103285e+09\n",
            "Comedy                                                                          6.244004e+09\n",
            "https://us.youtubers.me/global/all/top-1000-most_subscribed-youtube-channels    5.994360e+09\n",
            "Nonprofits & Activism                                                           4.846880e+09\n",
            "Howto & Style                                                                   4.540776e+09\n",
            "Science & Technology                                                            3.666427e+09\n",
            "Travel & Events                                                                 2.955451e+09\n",
            "Name: Video Views, dtype: float64\n"
          ]
        }
      ],
      "source": [
        "##your code:\n",
        "# Mengubah kolom 'Video Views' menjadi tipe data numerik jika belum dilakukan\n",
        "top['Video Views'] = pd.to_numeric(top['Video Views'], errors='coerce')\n",
        "\n",
        "# Mengelompokkan berdasarkan kategori dan menghitung rata-rata view\n",
        "mean_views_by_category = top.groupby('Category')['Video Views'].mean()\n",
        "\n",
        "# Mengurutkan berdasarkan nilai rata-rata view secara descending\n",
        "mean_views_by_category = mean_views_by_category.sort_values(ascending=False)\n",
        "\n",
        "# Menampilkan hasil\n",
        "print(\"Rata-rata Video Views berdasarkan Kategori:\")\n",
        "print(mean_views_by_category)\n"
      ]
    },
    {
      "cell_type": "markdown",
      "id": "c72315e7",
      "metadata": {
        "id": "c72315e7"
      },
      "source": [
        "7. Kategori (Category) manakah yang tidak termasuk ke dalam 5 kategori dengan subscriber tertinggi?\n",
        "   - [ ] Entertainment\n",
        "   - [ ] Gaming\n",
        "   - [ ] Music\n",
        "   - [ ] Sports"
      ]
    },
    {
      "cell_type": "code",
      "execution_count": 86,
      "id": "a52d9443",
      "metadata": {
        "scrolled": true,
        "colab": {
          "base_uri": "https://localhost:8080/"
        },
        "id": "a52d9443",
        "outputId": "ca6b80f2-432a-4dcf-e52e-b1213bbc9b41"
      },
      "outputs": [
        {
          "output_type": "stream",
          "name": "stdout",
          "text": [
            "Kategori yang tidak termasuk dalam lima kategori dengan subscriber tertinggi:\n",
            "['Film & Animation', 'Education', 'Shows', 'https://us.youtubers.me/global/all/top-1000-m..., 'People & Blogs', ..., 'Science & Technology', 'Movies', 'Pets & Animals', 'Autos & Vehicles', 'Travel & Events']\n",
            "Length: 15\n",
            "Categories (19, object): ['Autos & Vehicles', 'Comedy', 'Education', 'Entertainment', ..., 'Sports',\n",
            "                          'Trailers', 'Travel & Events',\n",
            "                          'https://us.youtubers.me/global/all/top-1000-m...]\n"
          ]
        }
      ],
      "source": [
        "##your code:\n",
        "# Kategori-kategori dengan subscriber tertinggi\n",
        "top_categories = ['Entertainment', 'Gaming', 'Music', 'Sports']\n",
        "\n",
        "# Membuat kondisi untuk memfilter kategori tertinggi\n",
        "top_categories_condition = top['Category'].isin(top_categories)\n",
        "\n",
        "# Menggunakan operator ~ (not) untuk mencari kategori yang tidak termasuk dalam kategori tertinggi\n",
        "non_top_categories = top[~top_categories_condition]['Category'].unique()\n",
        "\n",
        "print(\"Kategori yang tidak termasuk dalam lima kategori dengan subscriber tertinggi:\")\n",
        "print(non_top_categories)\n"
      ]
    },
    {
      "cell_type": "markdown",
      "id": "b99c37fc",
      "metadata": {
        "id": "b99c37fc"
      },
      "source": [
        "8. Diantara 5 channel dengan Subscribers terbanyak, channel manakah yang memiliki jumlah video paling banyak?\n",
        "   - [ ] T-Series\n",
        "   - [✅] SET India\n",
        "   - [ ] MrBeast\n",
        "   - [ ] YouTube Movies"
      ]
    },
    {
      "cell_type": "code",
      "execution_count": 87,
      "id": "453c5e39",
      "metadata": {
        "colab": {
          "base_uri": "https://localhost:8080/"
        },
        "id": "453c5e39",
        "outputId": "c57790d7-6a49-4e1b-929e-536441f08e3a"
      },
      "outputs": [
        {
          "output_type": "stream",
          "name": "stdout",
          "text": [
            "Channel di antara lima channel dengan subscribers terbanyak yang memiliki jumlah video paling banyak adalah: SET India\n"
          ]
        }
      ],
      "source": [
        "##your code:\n",
        "# Mengurutkan DataFrame berdasarkan kolom 'Subscribers' secara descending dan mengambil lima teratas\n",
        "top_5_subscribers = top.nlargest(5, 'Subscribers')\n",
        "\n",
        "# Mengambil nilai maksimum dari kolom 'Video Count' di antara lima channel dengan subscribers terbanyak\n",
        "max_video_count = top_5_subscribers['Video Count'].max()\n",
        "\n",
        "# Menggunakan kondisi untuk mencari channel dengan jumlah video paling banyak\n",
        "channel_with_most_videos = top_5_subscribers[top_5_subscribers['Video Count'] == max_video_count]['Youtube Channel'].values[0]\n",
        "\n",
        "print(\"Channel di antara lima channel dengan subscribers terbanyak yang memiliki jumlah video paling banyak adalah:\", channel_with_most_videos)\n"
      ]
    },
    {
      "cell_type": "markdown",
      "id": "f3a9e5ca",
      "metadata": {
        "id": "f3a9e5ca"
      },
      "source": [
        "9. Berdasarkan data pada `top`, buatlah visualisasi yang sesuai untuk melihat insight tertentu (menurut Anda). Silakan gunakan fungsi agregat jika diperlukan."
      ]
    },
    {
      "cell_type": "code",
      "execution_count": 88,
      "id": "8ef3e9b7",
      "metadata": {
        "colab": {
          "base_uri": "https://localhost:8080/",
          "height": 527
        },
        "id": "8ef3e9b7",
        "outputId": "892f4dbd-1d38-4828-8cb3-af8380d9598f"
      },
      "outputs": [
        {
          "output_type": "display_data",
          "data": {
            "text/plain": [
              "<Figure size 1000x600 with 1 Axes>"
            ],
            "image/png": "[encoded data removed]"
          },
          "metadata": {}
        }
      ],
      "source": [
        "##your code:\n",
        "# Mengelompokkan berdasarkan kategori dan menghitung jumlah video rata-rata\n",
        "mean_video_count_by_category = top.groupby('Category')['Video Count'].mean()\n",
        "\n",
        "# Plot bar untuk menampilkan rata-rata jumlah video berdasarkan kategori\n",
        "plt.figure(figsize=(10, 6))\n",
        "mean_video_count_by_category.plot(kind='bar', color='skyblue')\n",
        "plt.title('Rata-rata Jumlah Video per Kategori')\n",
        "plt.xlabel('Kategori')\n",
        "plt.ylabel('Rata-rata Jumlah Video')\n",
        "plt.xticks(rotation=45)\n",
        "plt.grid(axis='y')\n",
        "plt.tight_layout()\n",
        "plt.show()"
      ]
    },
    {
      "cell_type": "markdown",
      "id": "3805102d",
      "metadata": {
        "id": "3805102d"
      },
      "source": [
        "10. Dari visualisasi pada soal no.9, tuliskan insight yang dapat Anda ambil."
      ]
    },
    {
      "cell_type": "markdown",
      "id": "00cade45",
      "metadata": {
        "id": "00cade45"
      },
      "source": [
        "***Insight Anda:***\n",
        "\n"
      ]
    },
    {
      "cell_type": "markdown",
      "source": [
        "Dari visualisasi rata-rata jumlah video per kategori, insight yang dapat diambil adalah:\n",
        "\n",
        "- Kategori dengan rata-rata jumlah video tinggi menunjukkan fokus konten yang intens.\n",
        "- Perbedaan jumlah video antar kategori mengindikasikan strategi konten yang bervariasi.\n",
        "- Kategori dengan jumlah video rendah menunjukkan potensi pertumbuhan konten.\n",
        "- Pola visual membantu dalam memahami preferensi dan perilaku penonton terhadap konten."
      ],
      "metadata": {
        "id": "4KifrR2KtCIg"
      },
      "id": "4KifrR2KtCIg"
    },
    {
      "cell_type": "markdown",
      "id": "2ef36f98",
      "metadata": {
        "id": "2ef36f98"
      },
      "source": [
        "---"
      ]
    }
  ],
  "metadata": {
    "kernelspec": {
      "display_name": "phoenix_da",
      "language": "python",
      "name": "phoenix_da"
    },
    "language_info": {
      "codemirror_mode": {
        "name": "ipython",
        "version": 3
      },
      "file_extension": ".py",
      "mimetype": "text/x-python",
      "name": "python",
      "nbconvert_exporter": "python",
      "pygments_lexer": "ipython3",
      "version": "3.10.9"
    },
    "toc": {
      "base_numbering": 1,
      "nav_menu": {},
      "number_sections": true,
      "sideBar": true,
      "skip_h1_title": false,
      "title_cell": "Table of Contents",
      "title_sidebar": "Contents",
      "toc_cell": false,
      "toc_position": {},
      "toc_section_display": true,
      "toc_window_display": false
    },
    "varInspector": {
      "cols": {
        "lenName": 16,
        "lenType": 16,
        "lenVar": 40
      },
      "kernels_config": {
        "python": {
          "delete_cmd_postfix": "",
          "delete_cmd_prefix": "del ",
          "library": "var_list.py",
          "varRefreshCmd": "print(var_dic_list())"
        },
        "r": {
          "delete_cmd_postfix": ") ",
          "delete_cmd_prefix": "rm(",
          "library": "var_list.r",
          "varRefreshCmd": "cat(var_dic_list()) "
        }
      },
      "types_to_exclude": [
        "module",
        "function",
        "builtin_function_or_method",
        "instance",
        "_Feature"
      ],
      "window_display": false
    },
    "colab": {
      "provenance": []
    }
  },
  "nbformat": 4,
  "nbformat_minor": 5
}
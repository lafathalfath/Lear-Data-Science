{
 "cells": [
  {
   "cell_type": "markdown",
   "id": "da6edd53",
   "metadata": {},
   "source": [
    "# UJIAN KOMPETENSI DATA ANALIS SEMESTER GENAP TAHUN AKADEMIK 2023/2024 \n",
    "# SEKOLAH VOKASI IPB\n",
    "---\n",
    "\n",
    "# ANALISIS DAN VISUALISASI DATA\n",
    "\n",
    "## Petunjuk:\n",
    "1. Pada ujian ini Anda diminta untuk menganalisis data **Most Subscribed 1000 Youtube Channels**.\n",
    "2. Gunakan notebook ini untuk menuliskan jawaban. **save as dengan nama file: NIM_NamaLengkap_UKOM-data.ipynb**\n",
    "3. Gunakan dataset **topSubscribed.csv**.\n",
    "4. Kumpulkan jawaban pada link yang tertera pada class.\n",
    "5. Bacalah doa sebelum dan sesudah mengerjakan.\n",
    "6. Semoga sukses."
   ]
  },
  {
   "cell_type": "markdown",
   "id": "11fa3321",
   "metadata": {},
   "source": [
    "## Persiapan Data\n",
    "\n",
    "Pada ujian ini, kita akan gunakan data **Most Subscribed 1000 Youtube Channels**. Data tersebut terdapat pada file `topSubscribed.csv` yg berada pada folder yang sama dengan file ini.\n",
    "\n",
    "File berisi data 1000 channel youtube yang memiliki subscriber terbanyak. Data terdiri atas enam series sebagai berikut:\n",
    "\n",
    "- `Youtube Channel` : Nama channel youtube\n",
    "- `Subscriber` : Jumlah subscriber\n",
    "- `Video Views` : banyaknya video dilihat\n",
    "- `Video Count` : jumlah video pada channel tersebut\n",
    "- `Category` : kategori channel youtube\n",
    "- `Started` : tahun dimulainya channel youtube"
   ]
  },
  {
   "cell_type": "markdown",
   "id": "15d374a0",
   "metadata": {},
   "source": [
    "Silakan import data `topSubscribed.csv` dan simpan ke dalam variabel **top**. Import library pandas dan matplotlib. Tampilkan 5 data teratas dari `top`. "
   ]
  },
  {
   "cell_type": "code",
   "execution_count": null,
   "id": "dd027fc5",
   "metadata": {},
   "outputs": [],
   "source": [
    "## Import library pandas dan matplotlib serta read data top\n",
    "## your code\n"
   ]
  },
  {
   "cell_type": "markdown",
   "id": "297ad7f4",
   "metadata": {},
   "source": [
    "Anda dapat melihat jumlah baris pada variabel `top` dengan menggunakan `shape`"
   ]
  },
  {
   "cell_type": "code",
   "execution_count": null,
   "id": "7d270059",
   "metadata": {},
   "outputs": [],
   "source": [
    "##your code:\n"
   ]
  },
  {
   "cell_type": "markdown",
   "id": "5cfde803",
   "metadata": {},
   "source": [
    "Mari kita tinjau lebih jauh tipe data pada variabel `top`."
   ]
  },
  {
   "cell_type": "code",
   "execution_count": null,
   "id": "ee9dcc08",
   "metadata": {},
   "outputs": [],
   "source": [
    "##your code:\n"
   ]
  },
  {
   "cell_type": "markdown",
   "id": "65df34f5",
   "metadata": {},
   "source": [
    "Dari hasil di atas, jika ada kolom yang tidak sesuai tipe datanya, maka Anda harus sesuaikan (ada 3 kolom numerik dan 1 kolom kategori). Apakah terjadi error? jika ya, tuliskan alasannya menurut Anda. Lalu tuliskan kode yang benar."
   ]
  },
  {
   "cell_type": "markdown",
   "id": "9a57b5ef",
   "metadata": {},
   "source": [
    "> **Alasannya:**\n"
   ]
  },
  {
   "cell_type": "code",
   "execution_count": null,
   "id": "7aa3168f",
   "metadata": {},
   "outputs": [],
   "source": [
    "##your code:\n",
    "\n",
    "\n"
   ]
  },
  {
   "cell_type": "code",
   "execution_count": null,
   "id": "621f1758",
   "metadata": {},
   "outputs": [],
   "source": [
    "## tampilkan kembali tipe data top.\n",
    "## your code:\n"
   ]
  },
  {
   "cell_type": "markdown",
   "id": "99df41ce",
   "metadata": {},
   "source": [
    "## Pertanyaan\n",
    "\n",
    "Jawablah pertanyaan-pertanyaan berikut. Tuliskan kode program untuk membuktikan jawaban Anda."
   ]
  },
  {
   "cell_type": "markdown",
   "id": "0ba9700b",
   "metadata": {},
   "source": [
    "1. Youtube channel manakah yang memiliki subscriber terbanyak?\n",
    "   - [ ] T-Series\n",
    "   - [ ] YouTube Movies\n",
    "   - [ ] SET India\n",
    "   - [ ] MrBeast"
   ]
  },
  {
   "cell_type": "code",
   "execution_count": null,
   "id": "1ad2cb8d",
   "metadata": {},
   "outputs": [],
   "source": [
    "##Your code:\n"
   ]
  },
  {
   "cell_type": "markdown",
   "id": "d5f1d360",
   "metadata": {},
   "source": [
    "2. Berapa jumlah Youtube channel yang baru mulai di tahun 2021?\n",
    "   - [ ] 30\n",
    "   - [ ] 15\n",
    "   - [ ] 11\n",
    "   - [ ] 8"
   ]
  },
  {
   "cell_type": "code",
   "execution_count": null,
   "id": "d3545ea1",
   "metadata": {},
   "outputs": [],
   "source": [
    "##Your code:\n"
   ]
  },
  {
   "cell_type": "markdown",
   "id": "6269fc99",
   "metadata": {},
   "source": [
    "3. Jumlah youtube channel terbanyak tumbuh terjadi pada tahun **2014** yaitu sebanyak **120** channel."
   ]
  },
  {
   "cell_type": "code",
   "execution_count": null,
   "id": "c8fff37e",
   "metadata": {},
   "outputs": [],
   "source": [
    "##your code:\n"
   ]
  },
  {
   "cell_type": "markdown",
   "id": "73183151",
   "metadata": {},
   "source": [
    "4. Di `Category` `Gaming`, channel manakah yang memiliki subscriber terbanyak?\n",
    "   - [ ] PewDiePie\n",
    "   - [ ] JuegaGerman\n",
    "   - [ ] Fernanfloo\n",
    "   - [ ] elrubiusOMG"
   ]
  },
  {
   "cell_type": "code",
   "execution_count": null,
   "id": "31a38adf",
   "metadata": {},
   "outputs": [],
   "source": [
    "##your code:\n"
   ]
  },
  {
   "cell_type": "markdown",
   "id": "7ba8bbd1",
   "metadata": {},
   "source": [
    "5. Nilai pusat data `Video Views` adalah...\n",
    "   - [ ] 9.994912e+09\n",
    "   - [ ] 1.300546e+10\n",
    "   - [ ] 6.723360e+09\n",
    "   - [ ] 2.129003e+11"
   ]
  },
  {
   "cell_type": "code",
   "execution_count": null,
   "id": "a6b38410",
   "metadata": {},
   "outputs": [],
   "source": [
    "##your code:\n"
   ]
  },
  {
   "cell_type": "markdown",
   "id": "46d2c297",
   "metadata": {},
   "source": [
    "6. Kategori (Category) manakah yang sering dilihat (view) penonton? Gunakan `mean` untuk menghitung kisaran view dari tiap kategori.\n",
    "   - [ ] Shows\n",
    "   - [ ] Trailers\n",
    "   - [ ] Education\n",
    "   - [ ] Sports"
   ]
  },
  {
   "cell_type": "code",
   "execution_count": null,
   "id": "152ad159",
   "metadata": {},
   "outputs": [],
   "source": [
    "##your code:\n"
   ]
  },
  {
   "cell_type": "markdown",
   "id": "c72315e7",
   "metadata": {},
   "source": [
    "7. Kategori (Category) manakah yang tidak termasuk ke dalam 5 kategori dengan subscriber tertinggi?\n",
    "   - [ ] Entertainment\n",
    "   - [ ] Gaming\n",
    "   - [ ] Music\n",
    "   - [ ] Sports"
   ]
  },
  {
   "cell_type": "code",
   "execution_count": null,
   "id": "a52d9443",
   "metadata": {
    "scrolled": true
   },
   "outputs": [],
   "source": [
    "##your code:\n"
   ]
  },
  {
   "cell_type": "markdown",
   "id": "b99c37fc",
   "metadata": {},
   "source": [
    "8. Diantara 5 channel dengan Subscribers terbanyak, channel manakah yang memiliki jumlah video paling banyak?\n",
    "   - [ ] T-Series\n",
    "   - [ ] SET India\n",
    "   - [ ] MrBeast\n",
    "   - [ ] YouTube Movies"
   ]
  },
  {
   "cell_type": "code",
   "execution_count": null,
   "id": "453c5e39",
   "metadata": {},
   "outputs": [],
   "source": [
    "##your code:\n"
   ]
  },
  {
   "cell_type": "markdown",
   "id": "f3a9e5ca",
   "metadata": {},
   "source": [
    "9. Berdasarkan data pada `top`, buatlah visualisasi yang sesuai untuk melihat insight tertentu (menurut Anda). Silakan gunakan fungsi agregat jika diperlukan. "
   ]
  },
  {
   "cell_type": "code",
   "execution_count": null,
   "id": "8ef3e9b7",
   "metadata": {},
   "outputs": [],
   "source": [
    "##your code:\n"
   ]
  },
  {
   "cell_type": "markdown",
   "id": "3805102d",
   "metadata": {},
   "source": [
    "10. Dari visualisasi pada soal no.9, tuliskan insight yang dapat Anda ambil."
   ]
  },
  {
   "cell_type": "markdown",
   "id": "00cade45",
   "metadata": {},
   "source": [
    "***Insight Anda:***\n",
    "\n"
   ]
  },
  {
   "cell_type": "markdown",
   "id": "2ef36f98",
   "metadata": {},
   "source": [
    "---"
   ]
  }
 ],
 "metadata": {
  "kernelspec": {
   "display_name": "phoenix_da",
   "language": "python",
   "name": "phoenix_da"
  },
  "language_info": {
   "codemirror_mode": {
    "name": "ipython",
    "version": 3
   },
   "file_extension": ".py",
   "mimetype": "text/x-python",
   "name": "python",
   "nbconvert_exporter": "python",
   "pygments_lexer": "ipython3",
   "version": "3.10.9"
  },
  "toc": {
   "base_numbering": 1,
   "nav_menu": {},
   "number_sections": true,
   "sideBar": true,
   "skip_h1_title": false,
   "title_cell": "Table of Contents",
   "title_sidebar": "Contents",
   "toc_cell": false,
   "toc_position": {},
   "toc_section_display": true,
   "toc_window_display": false
  },
  "varInspector": {
   "cols": {
    "lenName": 16,
    "lenType": 16,
    "lenVar": 40
   },
   "kernels_config": {
    "python": {
     "delete_cmd_postfix": "",
     "delete_cmd_prefix": "del ",
     "library": "var_list.py",
     "varRefreshCmd": "print(var_dic_list())"
    },
    "r": {
     "delete_cmd_postfix": ") ",
     "delete_cmd_prefix": "rm(",
     "library": "var_list.r",
     "varRefreshCmd": "cat(var_dic_list()) "
    }
   },
   "types_to_exclude": [
    "module",
    "function",
    "builtin_function_or_method",
    "instance",
    "_Feature"
   ],
   "window_display": false
  }
 },
 "nbformat": 4,
 "nbformat_minor": 5
}
